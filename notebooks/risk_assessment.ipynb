{
 "cells": [
  {
   "cell_type": "code",
   "execution_count": 1,
   "metadata": {},
   "outputs": [],
   "source": [
    "import numpy as np\n",
    "import pandas as pd\n",
    "\n",
    "import os, urllib.request, json , sys, tqdm\n",
    "\n",
    "import matplotlib.pyplot as plt\n",
    "plt.style.use('default')\n",
    "\n",
    "sys.path.append('/'.join(os.getcwd().split('/')[:-1] + ['code']))\n",
    "import risk_assessment as ra"
   ]
  },
  {
   "cell_type": "code",
   "execution_count": 2,
   "metadata": {},
   "outputs": [],
   "source": [
    "symbols = [\n",
    "#     'GOOGL',\n",
    "    'X010.DE'\n",
    "#     'AAPL'\n",
    "]"
   ]
  },
  {
   "cell_type": "code",
   "execution_count": 3,
   "metadata": {},
   "outputs": [],
   "source": [
    "time_deltas = [pd.to_timedelta(int(years),unit='Y') for years in np.arange(5,10,1)]"
   ]
  },
  {
   "cell_type": "code",
   "execution_count": 4,
   "metadata": {},
   "outputs": [
    {
     "name": "stderr",
     "output_type": "stream",
     "text": [
      "  0%|          | 0/9 [00:00<?, ?it/s]/Users/ingmar/projects/risk_assessment/code/risk_assessment.py:208: RuntimeWarning: divide by zero encountered in true_divide\n",
      "  relative_growth = (pairwise_values[:,1] - pairwise_values[:,0])/pairwise_values[:,0]\n",
      "/Users/ingmar/projects/risk_assessment/code/risk_assessment.py:208: RuntimeWarning: invalid value encountered in true_divide\n",
      "  relative_growth = (pairwise_values[:,1] - pairwise_values[:,0])/pairwise_values[:,0]\n",
      "/Users/ingmar/projects/risk_assessment/code/risk_assessment.py:212: RuntimeWarning: invalid value encountered in log\n",
      "  np.log(relative_growth) / num_years\n",
      "100%|██████████| 9/9 [2:11:09<00:00, 655.01s/it]   \n"
     ]
    }
   ],
   "source": [
    "histograms_over_time = ra.calculate_risk_histogram_as_function_of_time(\n",
    "    symbols[0],\n",
    "    time_deltas\n",
    ")"
   ]
  },
  {
   "cell_type": "code",
   "execution_count": 7,
   "metadata": {},
   "outputs": [
    {
     "data": {
      "text/plain": [
       "inf"
      ]
     },
     "execution_count": 7,
     "metadata": {},
     "output_type": "execute_result"
    }
   ],
   "source": [
    "bins_max"
   ]
  },
  {
   "cell_type": "code",
   "execution_count": 8,
   "metadata": {},
   "outputs": [
    {
     "data": {
      "text/plain": [
       "-0.9996018950997703"
      ]
     },
     "execution_count": 8,
     "metadata": {},
     "output_type": "execute_result"
    }
   ],
   "source": [
    "bins_min"
   ]
  },
  {
   "cell_type": "code",
   "execution_count": 6,
   "metadata": {
    "scrolled": false
   },
   "outputs": [
    {
     "name": "stderr",
     "output_type": "stream",
     "text": [
      "/Users/ingmar/.anaconda/anaconda3/lib/python3.6/site-packages/numpy/core/function_base.py:133: RuntimeWarning: invalid value encountered in multiply\n",
      "  y *= step\n"
     ]
    },
    {
     "ename": "ValueError",
     "evalue": "range parameter must be finite.",
     "output_type": "error",
     "traceback": [
      "\u001b[0;31m---------------------------------------------------------------------------\u001b[0m",
      "\u001b[0;31mValueError\u001b[0m                                Traceback (most recent call last)",
      "\u001b[0;32m<ipython-input-6-01bae010b399>\u001b[0m in \u001b[0;36m<module>\u001b[0;34m()\u001b[0m\n\u001b[1;32m     24\u001b[0m \u001b[0;34m\u001b[0m\u001b[0m\n\u001b[1;32m     25\u001b[0m \u001b[0;31m#     create histogram\u001b[0m\u001b[0;34m\u001b[0m\u001b[0;34m\u001b[0m\u001b[0m\n\u001b[0;32m---> 26\u001b[0;31m     \u001b[0;34m[\u001b[0m\u001b[0mhist_now\u001b[0m\u001b[0;34m,\u001b[0m\u001b[0m_\u001b[0m\u001b[0;34m]\u001b[0m \u001b[0;34m=\u001b[0m \u001b[0mnp\u001b[0m\u001b[0;34m.\u001b[0m\u001b[0mhistogram\u001b[0m\u001b[0;34m(\u001b[0m\u001b[0mhistogram\u001b[0m\u001b[0;34m,\u001b[0m\u001b[0mbins\u001b[0m\u001b[0;34m)\u001b[0m\u001b[0;34m\u001b[0m\u001b[0m\n\u001b[0m\u001b[1;32m     27\u001b[0m     \u001b[0mbinned_over_time\u001b[0m\u001b[0;34m[\u001b[0m\u001b[0;34m:\u001b[0m\u001b[0;34m,\u001b[0m\u001b[0mind\u001b[0m\u001b[0;34m]\u001b[0m \u001b[0;34m=\u001b[0m \u001b[0mhist_now\u001b[0m\u001b[0;34m\u001b[0m\u001b[0m\n\u001b[1;32m     28\u001b[0m \u001b[0;34m\u001b[0m\u001b[0m\n",
      "\u001b[0;32m~/.anaconda/anaconda3/lib/python3.6/site-packages/numpy/lib/function_base.py\u001b[0m in \u001b[0;36mhistogram\u001b[0;34m(a, bins, range, normed, weights, density)\u001b[0m\n\u001b[1;32m    668\u001b[0m     \u001b[0;32mif\u001b[0m \u001b[0;32mnot\u001b[0m \u001b[0mnp\u001b[0m\u001b[0;34m.\u001b[0m\u001b[0mall\u001b[0m\u001b[0;34m(\u001b[0m\u001b[0mnp\u001b[0m\u001b[0;34m.\u001b[0m\u001b[0misfinite\u001b[0m\u001b[0;34m(\u001b[0m\u001b[0;34m[\u001b[0m\u001b[0mfirst_edge\u001b[0m\u001b[0;34m,\u001b[0m \u001b[0mlast_edge\u001b[0m\u001b[0;34m]\u001b[0m\u001b[0;34m)\u001b[0m\u001b[0;34m)\u001b[0m\u001b[0;34m:\u001b[0m\u001b[0;34m\u001b[0m\u001b[0m\n\u001b[1;32m    669\u001b[0m         raise ValueError(\n\u001b[0;32m--> 670\u001b[0;31m             'range parameter must be finite.')\n\u001b[0m\u001b[1;32m    671\u001b[0m     \u001b[0;32mif\u001b[0m \u001b[0mfirst_edge\u001b[0m \u001b[0;34m==\u001b[0m \u001b[0mlast_edge\u001b[0m\u001b[0;34m:\u001b[0m\u001b[0;34m\u001b[0m\u001b[0m\n\u001b[1;32m    672\u001b[0m         \u001b[0mfirst_edge\u001b[0m \u001b[0;34m-=\u001b[0m \u001b[0;36m0.5\u001b[0m\u001b[0;34m\u001b[0m\u001b[0m\n",
      "\u001b[0;31mValueError\u001b[0m: range parameter must be finite."
     ]
    },
    {
     "data": {
      "text/plain": [
       "<Figure size 1152x648 with 0 Axes>"
      ]
     },
     "metadata": {},
     "output_type": "display_data"
    }
   ],
   "source": [
    "n_bins = 100\n",
    "\n",
    "plt.figure(figsize=(16,9))\n",
    "bins_min = min([np.nanmin(hist) for hist in histograms_over_time])\n",
    "bins_max = max([np.nanmax(hist) for hist in histograms_over_time])\n",
    "\n",
    "bins        = np.linspace(bins_min,bins_max,num=n_bins)\n",
    "bin_centers = (bins[1:] + bins[:-1])/2\n",
    "\n",
    "binned_over_time = np.zeros((len(bin_centers),len(time_deltas)))\n",
    "first_quartiles = []\n",
    "last_quartiles  = []\n",
    "\n",
    "for ind, [timediff, histogram] in enumerate(zip(time_deltas,histograms_over_time)):\n",
    "    \n",
    "#     The distribution and the total number of samples differs for each time_delta,\n",
    "#     therefore the binning is not done by the default routine but is fixed.\n",
    "#     This allows to compare statistic relevance by the absolute values of the bin counts\n",
    "#     that decreases for longer time differences (longer time diff means less samples\n",
    "#     in fixed time span for which historic data is available)\n",
    "    \n",
    "#     drop nan\n",
    "    histogram = histogram[~np.isnan(histogram)]\n",
    "    \n",
    "#     create histogram\n",
    "    [hist_now,_] = np.histogram(histogram,bins)\n",
    "    binned_over_time[:,ind] = hist_now\n",
    "                   \n",
    "#     calculate quartiles\n",
    "    first_quartiles.append(\n",
    "        np.percentile(histogram,25)\n",
    "    )\n",
    "    last_quartiles.append(\n",
    "        np.percentile(histogram,75)\n",
    "    )\n",
    "\n",
    "    \n",
    "time_deltas_years = [time_delta.total_seconds()/365/24/60/60 for time_delta in time_deltas]\n",
    "\n",
    "plt.imshow(\n",
    "    binned_over_time,\n",
    "    aspect = 'auto',\n",
    "    origin='lower',\n",
    "    extent = [\n",
    "        time_deltas_years[0],\n",
    "        time_deltas_years[-1],\n",
    "        bins_min,\n",
    "        bins_max\n",
    "    ]\n",
    ")\n",
    "\n",
    "plt.xticks(\n",
    "    time_deltas_years,\n",
    "    [\"{:.2f}\".format(time_delta) for time_delta in time_deltas_years]\n",
    ")\n",
    "\n",
    "bin_centers_subsample_indices = np.array([int(element) for element in np.array([0,0.25,.5,.75,1]) * (n_bins-2)])\n",
    "bin_centers_subsample = bin_centers[bin_centers_subsample_indices]\n",
    "\n",
    "# plt.yticks(\n",
    "#     np.arange(len(bin_centers))[bin_centers_subsample_indices],\n",
    "#     [\"{:.1f}\".format(bin_center) for bin_center in bin_centers_subsample]\n",
    "# )\n",
    "\n",
    "plt.title(symbols[0])\n",
    "plt.ylabel('Effective annual growth rate')\n",
    "plt.xlabel('Investment time in years')\n",
    "\n",
    "plt.plot(time_deltas_years,first_quartiles,'red')\n",
    "plt.plot(time_deltas_years,last_quartiles,'orange')\n",
    "plt.plot(time_deltas_years,[0] * len(time_deltas_years),'--',)\n",
    "\n",
    "plt.legend([\n",
    "    'First Quartile',\n",
    "    'Last Quartile'\n",
    "])\n",
    "\n",
    "plt.savefig('../output/figs/' + symbols[0] + '.pdf', dpi = 300)"
   ]
  },
  {
   "cell_type": "code",
   "execution_count": null,
   "metadata": {},
   "outputs": [],
   "source": []
  }
 ],
 "metadata": {
  "kernelspec": {
   "display_name": "Python 3",
   "language": "python",
   "name": "python3"
  },
  "language_info": {
   "codemirror_mode": {
    "name": "ipython",
    "version": 3
   },
   "file_extension": ".py",
   "mimetype": "text/x-python",
   "name": "python",
   "nbconvert_exporter": "python",
   "pygments_lexer": "ipython3",
   "version": "3.6.5"
  },
  "toc": {
   "base_numbering": 1,
   "nav_menu": {},
   "number_sections": true,
   "sideBar": true,
   "skip_h1_title": false,
   "title_cell": "Table of Contents",
   "title_sidebar": "Contents",
   "toc_cell": false,
   "toc_position": {},
   "toc_section_display": true,
   "toc_window_display": false
  }
 },
 "nbformat": 4,
 "nbformat_minor": 2
}
